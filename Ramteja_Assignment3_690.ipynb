{
 "cells": [
  {
   "cell_type": "markdown",
   "metadata": {
    "id": "S16_6gIzcnBv"
   },
   "source": []
  },
  {
   "cell_type": "markdown",
   "metadata": {
    "colab": {
     "base_uri": "https://localhost:8080/"
    },
    "id": "RuRhhm6Di_VC",
    "outputId": "e9a8ef9c-eec1-43fd-fc4b-65779f859b85"
   },
   "source": [
    "Assignment 03\n",
    "The Problem:\n",
    "Write a program that generates 100 random integers between 0 and 9.\n",
    "1. Print them in a 10 by 10 matrix neatly arranged like the following (one space between each number):\n"
   ]
  },
  {
   "cell_type": "markdown",
   "metadata": {},
   "source": [
    "***Printing list of 100 random integers"
   ]
  },
  {
   "cell_type": "code",
   "execution_count": 1,
   "metadata": {},
   "outputs": [
    {
     "name": "stdout",
     "output_type": "stream",
     "text": [
      "100 Random Integers:\n",
      "[8, 4, 2, 4, 5, 4, 5, 0, 5, 2, 0, 6, 1, 3, 6, 0, 9, 4, 1, 0, 5, 3, 4, 3, 2, 9, 7, 0, 8, 1, 4, 3, 7, 5, 3, 1, 8, 6, 1, 3, 1, 7, 9, 3, 4, 4, 7, 3, 6, 4, 0, 9, 3, 5, 5, 5, 5, 8, 5, 0, 3, 5, 4, 3, 9, 5, 4, 8, 2, 2, 4, 0, 7, 9, 4, 0, 5, 2, 3, 9, 5, 3, 4, 8, 4, 5, 7, 2, 1, 8, 4, 1, 9, 3, 9, 8, 8, 4, 5, 0]\n",
      "\n"
     ]
    }
   ],
   "source": [
    "import random\n",
    "rand_numbers = []\n",
    "for i in range(0, 100):                              \n",
    "   rand_numbers.append(random.randint(0, 9))       \n",
    "print(\"100 Random Integers:\")\n",
    "print(rand_numbers)\n",
    "print()"
   ]
  },
  {
   "cell_type": "markdown",
   "metadata": {},
   "source": [
    "10*10 Matrix Formation"
   ]
  },
  {
   "cell_type": "code",
   "execution_count": 2,
   "metadata": {},
   "outputs": [
    {
     "name": "stdout",
     "output_type": "stream",
     "text": [
      "The 10*10 Matrix is:\n",
      "\n",
      "6 2 3 0 0 3 4 5 6 5 \n",
      "0 5 3 1 1 6 4 4 5 4 \n",
      "5 2 4 2 2 6 1 7 3 5 \n",
      "1 6 1 1 7 3 2 5 3 0 \n",
      "7 4 2 1 7 7 8 4 6 4 \n",
      "0 7 4 8 2 4 1 4 0 6 \n",
      "7 2 4 1 2 6 3 3 0 6 \n",
      "7 6 0 2 5 5 3 4 5 3 \n",
      "7 8 2 6 3 2 8 3 3 7 \n",
      "2 6 5 0 7 4 6 1 0 0 \n"
     ]
    }
   ],
   "source": [
    "import numpy as rand_numbers                          \n",
    "a= rand_numbers.random.randint(0,9, size = (10,10))\n",
    "print(\"The 10*10 Matrix is:\")\n",
    "print()\n",
    "for row in a:\n",
    "  for col in row:\n",
    "    print(col,end=' ')\n",
    "  print()"
   ]
  },
  {
   "cell_type": "markdown",
   "metadata": {
    "id": "XN7BKaDwcwax"
   },
   "source": [
    "If the random number is an odd number, printing \"@\" instead"
   ]
  },
  {
   "cell_type": "code",
   "execution_count": 3,
   "metadata": {},
   "outputs": [
    {
     "name": "stdout",
     "output_type": "stream",
     "text": [
      "6 2 @ 0 0 @ 4 @ 6 @ \n",
      "0 @ @ @ @ 6 4 4 @ 4 \n",
      "@ 2 4 2 2 6 @ @ @ @ \n",
      "@ 6 @ @ @ @ 2 @ @ 0 \n",
      "@ 4 2 @ @ @ 8 4 6 4 \n",
      "0 @ 4 8 2 4 @ 4 0 6 \n",
      "@ 2 4 @ 2 6 @ @ 0 6 \n",
      "@ 6 0 2 @ @ @ 4 @ @ \n",
      "@ 8 2 6 @ 2 8 @ @ @ \n",
      "2 6 @ 0 @ 4 6 @ 0 0 \n"
     ]
    }
   ],
   "source": [
    "a1=[]\n",
    "for row in a:\n",
    "  a1.append(list(map(str,row))) \n",
    "for row_index in range(len(a1)):\n",
    "  for col_index in range(len(a1[0])):\n",
    "    if int(a1[row_index][col_index])%2 != 0:\n",
    "      a1[row_index][col_index]=\"@\"\n",
    "for row in a1:\n",
    "  for col in row:\n",
    "    print(col,end=' ')\n",
    "  print()"
   ]
  },
  {
   "cell_type": "markdown",
   "metadata": {},
   "source": [
    "Each individual row summing"
   ]
  },
  {
   "cell_type": "code",
   "execution_count": 4,
   "metadata": {},
   "outputs": [
    {
     "name": "stdout",
     "output_type": "stream",
     "text": [
      "6 2 3 0 0 3 4 5 6 5 * 34\n",
      "0 5 3 1 1 6 4 4 5 4 * 33\n",
      "5 2 4 2 2 6 1 7 3 5 * 37\n",
      "1 6 1 1 7 3 2 5 3 0 * 29\n",
      "7 4 2 1 7 7 8 4 6 4 * 50\n",
      "0 7 4 8 2 4 1 4 0 6 * 36\n",
      "7 2 4 1 2 6 3 3 0 6 * 34\n",
      "7 6 0 2 5 5 3 4 5 3 * 40\n",
      "7 8 2 6 3 2 8 3 3 7 * 49\n",
      "2 6 5 0 7 4 6 1 0 0 * 31\n"
     ]
    }
   ],
   "source": [
    "for row in a:\n",
    "  for col in row:\n",
    "    print(col,end=' ')\n",
    "  print(\"*\",sum(row)) "
   ]
  },
  {
   "cell_type": "markdown",
   "metadata": {},
   "source": [
    "matrix with asterisks (*)"
   ]
  },
  {
   "cell_type": "code",
   "execution_count": 5,
   "metadata": {
    "scrolled": true
   },
   "outputs": [
    {
     "name": "stdout",
     "output_type": "stream",
     "text": [
      "**********************\n",
      "*6 2 3 0 0 3 4 5 6 5 *\n",
      "*0 5 3 1 1 6 4 4 5 4 *\n",
      "*5 2 4 2 2 6 1 7 3 5 *\n",
      "*1 6 1 1 7 3 2 5 3 0 *\n",
      "*7 4 2 1 7 7 8 4 6 4 *\n",
      "*0 7 4 8 2 4 1 4 0 6 *\n",
      "*7 2 4 1 2 6 3 3 0 6 *\n",
      "*7 6 0 2 5 5 3 4 5 3 *\n",
      "*7 8 2 6 3 2 8 3 3 7 *\n",
      "*2 6 5 0 7 4 6 1 0 0 *\n",
      "**********************\n"
     ]
    }
   ],
   "source": [
    "for _ in range(2*len(a[0])+2):\n",
    "  print(\"*\",sep='',end='')\n",
    "print()\n",
    "for row in a:\n",
    "  print(\"*\",sep='',end='')\n",
    "  for col in row:\n",
    "    print(col,end=' ')\n",
    "  print(\"*\")\n",
    "for _ in range(2*len(a[0])+2):\n",
    "  print(\"*\",sep='',end='')\n",
    "print()"
   ]
  },
  {
   "cell_type": "markdown",
   "metadata": {},
   "source": [
    "Calculating and Printing the total of each row and column"
   ]
  },
  {
   "cell_type": "code",
   "execution_count": 6,
   "metadata": {},
   "outputs": [
    {
     "name": "stdout",
     "output_type": "stream",
     "text": [
      "6  2  3  0  0  3  4  5  6  5  * 34\n",
      "0  5  3  1  1  6  4  4  5  4  * 33\n",
      "5  2  4  2  2  6  1  7  3  5  * 37\n",
      "1  6  1  1  7  3  2  5  3  0  * 29\n",
      "7  4  2  1  7  7  8  4  6  4  * 50\n",
      "0  7  4  8  2  4  1  4  0  6  * 36\n",
      "7  2  4  1  2  6  3  3  0  6  * 34\n",
      "7  6  0  2  5  5  3  4  5  3  * 40\n",
      "7  8  2  6  3  2  8  3  3  7  * 49\n",
      "2  6  5  0  7  4  6  1  0  0  * 31\n",
      "*  *  *  *  *  *  *  *  *  *  \n",
      "42 48 28 22 36 46 40 40 31 40 "
     ]
    }
   ],
   "source": [
    "def column_sum(matrix):\n",
    "  sum_column=[0] * len(matrix[0])\n",
    "  for row_index in range(len(matrix)):\n",
    "    for col_index in range(len(matrix[0])):\n",
    "      sum_column[col_index]+=matrix[row_index][col_index]\n",
    "  return sum_column\n",
    "\n",
    "for row in a:\n",
    "  for col in row:\n",
    "    print(col,end='  ')\n",
    "  print(\"*\",sum(row))                          \n",
    "\n",
    "for _ in range(len(a[0])):\n",
    "  print(\"*\",end='  ')\n",
    "print()\n",
    "ans=column_sum(a)\n",
    "for ele in ans:\n",
    "  print(ele,end=' ')"
   ]
  }
 ],
 "metadata": {
  "colab": {
   "provenance": []
  },
  "kernelspec": {
   "display_name": "Python 3",
   "language": "python",
   "name": "python3"
  },
  "language_info": {
   "codemirror_mode": {
    "name": "ipython",
    "version": 3
   },
   "file_extension": ".py",
   "mimetype": "text/x-python",
   "name": "python",
   "nbconvert_exporter": "python",
   "pygments_lexer": "ipython3",
   "version": "3.8.5"
  }
 },
 "nbformat": 4,
 "nbformat_minor": 1
}
