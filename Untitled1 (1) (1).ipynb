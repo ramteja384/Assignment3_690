{
 "cells": [
  {
   "cell_type": "markdown",
   "metadata": {
    "id": "S16_6gIzcnBv"
   },
   "source": []
  },
  {
   "cell_type": "markdown",
   "metadata": {
    "colab": {
     "base_uri": "https://localhost:8080/"
    },
    "id": "RuRhhm6Di_VC",
    "outputId": "e9a8ef9c-eec1-43fd-fc4b-65779f859b85"
   },
   "source": [
    "Assignment 03\n",
    "The Problem:\n",
    "Write a program that generates 100 random integers between 0 and 9.\n",
    "1. Print them in a 10 by 10 matrix neatly arranged like the following (one space between each number):\n"
   ]
  },
  {
   "cell_type": "code",
   "execution_count": 1,
   "metadata": {},
   "outputs": [
    {
     "name": "stdout",
     "output_type": "stream",
     "text": [
      "100 Random Integers:\n",
      "[0, 5, 9, 9, 4, 8, 7, 4, 7, 1, 2, 2, 7, 5, 9, 4, 4, 0, 8, 5, 3, 3, 7, 7, 0, 8, 6, 3, 5, 0, 7, 5, 4, 2, 0, 7, 7, 3, 1, 7, 3, 1, 2, 4, 1, 7, 5, 5, 2, 9, 2, 8, 0, 5, 8, 8, 2, 1, 5, 3, 6, 6, 3, 2, 3, 2, 1, 9, 3, 3, 6, 4, 8, 7, 0, 7, 6, 8, 0, 4, 8, 4, 5, 0, 2, 2, 6, 0, 8, 1, 1, 3, 7, 7, 9, 4, 5, 7, 0, 2]\n",
      "\n"
     ]
    }
   ],
   "source": [
    "import random\n",
    "rand_numbers = []\n",
    "for i in range(0, 100):                              \n",
    "   rand_numbers.append(random.randint(0, 9))       \n",
    "print(\"100 Random Integers:\")\n",
    "print(rand_numbers)\n",
    "print()\n",
    "\n"
   ]
  },
  {
   "cell_type": "markdown",
   "metadata": {},
   "source": [
    "10*10 Matrix Formation"
   ]
  },
  {
   "cell_type": "code",
   "execution_count": 2,
   "metadata": {},
   "outputs": [
    {
     "name": "stdout",
     "output_type": "stream",
     "text": [
      "The 10*10 Matrix is:\n",
      "\n",
      "7 4 6 4 4 5 3 6 1 7 \n",
      "0 7 4 1 1 2 5 6 8 0 \n",
      "1 3 2 4 0 3 4 8 8 6 \n",
      "4 0 2 7 5 0 7 2 3 2 \n",
      "8 1 3 0 6 3 3 3 1 0 \n",
      "7 0 7 2 5 2 8 1 1 4 \n",
      "3 6 0 3 1 0 0 3 4 6 \n",
      "0 3 5 1 7 4 3 1 3 2 \n",
      "8 8 1 3 2 8 8 8 3 1 \n",
      "4 1 8 0 6 4 1 2 1 6 \n"
     ]
    }
   ],
   "source": [
    "import numpy as rand_numbers                          \n",
    "a= rand_numbers.random.randint(0,9, size = (10,10))\n",
    "print(\"The 10*10 Matrix is:\")\n",
    "print()\n",
    "for row in a:\n",
    "  for col in row:\n",
    "    print(col,end=' ')\n",
    "  print()\n"
   ]
  },
  {
   "cell_type": "markdown",
   "metadata": {
    "id": "XN7BKaDwcwax"
   },
   "source": []
  },
  {
   "cell_type": "code",
   "execution_count": 4,
   "metadata": {},
   "outputs": [
    {
     "name": "stdout",
     "output_type": "stream",
     "text": [
      "@ 4 6 4 4 @ @ 6 @ @ \n",
      "0 @ 4 @ @ 2 @ 6 8 0 \n",
      "@ @ 2 4 0 @ 4 8 8 6 \n",
      "4 0 2 @ @ 0 @ 2 @ 2 \n",
      "8 @ @ 0 6 @ @ @ @ 0 \n",
      "@ 0 @ 2 @ 2 8 @ @ 4 \n",
      "@ 6 0 @ @ 0 0 @ 4 6 \n",
      "0 @ @ @ @ 4 @ @ @ 2 \n",
      "8 8 @ @ 2 8 8 8 @ @ \n",
      "4 @ 8 0 6 4 @ 2 @ 6 \n"
     ]
    }
   ],
   "source": [
    "a1=[]\n",
    "for row in a:\n",
    "  a1.append(list(map(str,row))) \n",
    "for row_index in range(len(a1)):\n",
    "  for col_index in range(len(a1[0])):\n",
    "    if int(a1[row_index][col_index])%2 != 0:\n",
    "      a1[row_index][col_index]=\"@\"\n",
    "for row in a1:\n",
    "  for col in row:\n",
    "    print(col,end=' ')\n",
    "  print()"
   ]
  },
  {
   "cell_type": "markdown",
   "metadata": {},
   "source": [
    "Each individual row summing"
   ]
  },
  {
   "cell_type": "code",
   "execution_count": 5,
   "metadata": {},
   "outputs": [
    {
     "name": "stdout",
     "output_type": "stream",
     "text": [
      "7 4 6 4 4 5 3 6 1 7 * 47\n",
      "0 7 4 1 1 2 5 6 8 0 * 34\n",
      "1 3 2 4 0 3 4 8 8 6 * 39\n",
      "4 0 2 7 5 0 7 2 3 2 * 32\n",
      "8 1 3 0 6 3 3 3 1 0 * 28\n",
      "7 0 7 2 5 2 8 1 1 4 * 37\n",
      "3 6 0 3 1 0 0 3 4 6 * 26\n",
      "0 3 5 1 7 4 3 1 3 2 * 29\n",
      "8 8 1 3 2 8 8 8 3 1 * 50\n",
      "4 1 8 0 6 4 1 2 1 6 * 33\n"
     ]
    }
   ],
   "source": [
    "for row in a:\n",
    "  for col in row:\n",
    "    print(col,end=' ')\n",
    "  print(\"*\",sum(row)) \n"
   ]
  },
  {
   "cell_type": "markdown",
   "metadata": {},
   "source": [
    "Final Summing of elements in each row and column"
   ]
  },
  {
   "cell_type": "code",
   "execution_count": 6,
   "metadata": {},
   "outputs": [
    {
     "name": "stdout",
     "output_type": "stream",
     "text": [
      "**********************\n",
      "*7 4 6 4 4 5 3 6 1 7 *\n",
      "*0 7 4 1 1 2 5 6 8 0 *\n",
      "*1 3 2 4 0 3 4 8 8 6 *\n",
      "*4 0 2 7 5 0 7 2 3 2 *\n",
      "*8 1 3 0 6 3 3 3 1 0 *\n",
      "*7 0 7 2 5 2 8 1 1 4 *\n",
      "*3 6 0 3 1 0 0 3 4 6 *\n",
      "*0 3 5 1 7 4 3 1 3 2 *\n",
      "*8 8 1 3 2 8 8 8 3 1 *\n",
      "*4 1 8 0 6 4 1 2 1 6 *\n",
      "**********************\n",
      "7  4  6  4  4  5  3  6  1  7  * 47\n",
      "0  7  4  1  1  2  5  6  8  0  * 34\n",
      "1  3  2  4  0  3  4  8  8  6  * 39\n",
      "4  0  2  7  5  0  7  2  3  2  * 32\n",
      "8  1  3  0  6  3  3  3  1  0  * 28\n",
      "7  0  7  2  5  2  8  1  1  4  * 37\n",
      "3  6  0  3  1  0  0  3  4  6  * 26\n",
      "0  3  5  1  7  4  3  1  3  2  * 29\n",
      "8  8  1  3  2  8  8  8  3  1  * 50\n",
      "4  1  8  0  6  4  1  2  1  6  * 33\n",
      "*  *  *  *  *  *  *  *  *  *  \n",
      "42 33 38 25 37 31 42 40 33 34 "
     ]
    }
   ],
   "source": [
    "for _ in range(2*len(a[0])+2):\n",
    "  print(\"*\",sep='',end='')\n",
    "print()\n",
    "for row in a:\n",
    "  print(\"*\",sep='',end='')\n",
    "  for col in row:\n",
    "    print(col,end=' ')\n",
    "  print(\"*\")\n",
    "for _ in range(2*len(a[0])+2):\n",
    "  print(\"*\",sep='',end='')\n",
    "print()\n",
    "\n",
    "def column_sum(matrix):\n",
    "  sum_column=[0] * len(matrix[0])\n",
    "  for row_index in range(len(matrix)):\n",
    "    for col_index in range(len(matrix[0])):\n",
    "      sum_column[col_index]+=matrix[row_index][col_index]\n",
    "  return sum_column\n",
    "\n",
    "for row in a:\n",
    "  for col in row:\n",
    "    print(col,end='  ')\n",
    "  print(\"*\",sum(row))                          \n",
    "\n",
    "for _ in range(len(a[0])):\n",
    "  print(\"*\",end='  ')\n",
    "print()\n",
    "ans=column_sum(a)\n",
    "for ele in ans:\n",
    "  print(ele,end=' ')"
   ]
  },
  {
   "cell_type": "code",
   "execution_count": null,
   "metadata": {},
   "outputs": [],
   "source": []
  }
 ],
 "metadata": {
  "colab": {
   "provenance": []
  },
  "kernelspec": {
   "display_name": "Python 3",
   "language": "python",
   "name": "python3"
  },
  "language_info": {
   "codemirror_mode": {
    "name": "ipython",
    "version": 3
   },
   "file_extension": ".py",
   "mimetype": "text/x-python",
   "name": "python",
   "nbconvert_exporter": "python",
   "pygments_lexer": "ipython3",
   "version": "3.8.5"
  }
 },
 "nbformat": 4,
 "nbformat_minor": 1
}
